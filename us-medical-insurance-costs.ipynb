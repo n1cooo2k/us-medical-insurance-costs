{
 "cells": [
  {
   "cell_type": "markdown",
   "metadata": {},
   "source": [
    "# U.S. Medical Insurance Costs"
   ]
  },
  {
   "cell_type": "markdown",
   "metadata": {},
   "source": [
    "The CSV File has 7 columns: [age, sex, bmi, children, smoker, region, charges]\n",
    "\n",
    "Important notes:\n",
    "- The age range is 18-64 years old, is numerical\n",
    "- Sex is male or female, is categorical\n",
    "- BMI Range is 15.96 - 53.13, is numerical\n",
    "- Children range is 0 - 5, is categorical\n",
    "- Smoker is boolean: Yes or No, is categorical\n",
    "- Region only has 4 different regions: (southwest, southeast, northwest and northeast), is categorical\n",
    "- Charges range is 1121.87 - 63770.43 dollars, is numerical\n",
    "- Columns index: {age: 0, sex: 1, bmi: 2, children: 3, smoker: 4, region: 5, charges: 6}\n",
    "\n",
    "US Medical Insurance Costs Project Roadmap\n",
    "\n",
    "This document outlines the roadmap for our US Medical Insurance Costs project, detailing the goals, analysis, data, evaluation, and output. This structured approach will guide us in conducting a thorough analysis using Python and presenting our findings in a professional manner.\n",
    "\n",
    "Project Goals\n",
    "The primary objectives of this project are to:\n",
    "Make Predictions for Future Projects: Utilize the insights gained from the analysis to forecast potential trends and costs in medical insurance.\n",
    "Analyze the Data with Learned Skills: Apply the analytical techniques and skills acquired through prior learning to extract meaningful insights from the dataset.\n",
    "\n",
    "Analysis\n",
    "The analysis will focus on several key aspects of the dataset to understand the factors influencing medical insurance costs:\n",
    "Average Age of the Patients: Determine the mean age of individuals in the dataset.\n",
    "Average BMI of the Patients: Calculate the average Body Mass Index (BMI) to assess health trends.\n",
    "Average Number of Children per Patient: Analyze the family size of patients.\n",
    "Patient Distribution by Region: Count the number of patients in each region to identify regional patterns.\n",
    "Average Charge per Patient: Compute the mean insurance charge to understand overall cost trends.\n",
    "Impact of Factors on Charges: Investigate how the number of children, BMI, smoking status, and region affect insurance charges.\n",
    "\n",
    "Data\n",
    "The project utilizes the us-medical-insurance-cost.csv file. This dataset has been thoroughly checked for cleanliness and completeness, ensuring that all necessary information is available for the analysis.\n",
    "\n",
    "Evaluation\n",
    "The evaluation phase will involve interpreting the results from the analysis. This will include:\n",
    "Summarizing findings based on the average calculations and distributions.\n",
    "Evaluating how demographic and lifestyle factors influence insurance costs.\n",
    "Formulating predictions and recommendations for future insurance cost trends.\n",
    "\n",
    "Output\n",
    "The final output will be a presentation or dashboard that communicates our findings effectively. This will include:\n",
    "Simple and Professional Design: Using a minimalistic color palette to maintain a professional appearance.\n",
    "\n",
    "Key Insights and Visualizations: Presenting data through clear charts and graphs to enhance understanding.\n",
    "\n",
    "Actionable Recommendations: Offering insights that stakeholders can utilize for decision-making.\n",
    "\n",
    "By following this roadmap, the project aims to deliver comprehensive insights into US medical insurance costs and provide valuable predictions for future considerations.\n"
   ]
  },
  {
   "cell_type": "code",
   "execution_count": null,
   "metadata": {},
   "outputs": [
    {
     "name": "stdout",
     "output_type": "stream",
     "text": [
      "Minimum age: 18\n",
      "Maximum age: 64\n"
     ]
    }
   ],
   "source": [
    "# This script reads a CSV file named 'insurance.csv' and prints the maximum and minimum values of the first column (age).\n",
    "# It assumes that the first column contains integer values representing ages.\n",
    "# The CSV file is expected to have a header row, which will be skipped.\n",
    "# The script uses the csv module to read the file and stores the ages in a list.\n",
    "# It then calculates and prints the minimum and maximum ages.\n",
    "import csv\n",
    "\n",
    "ages = []\n",
    "\n",
    "with open('insurance.csv') as file:\n",
    "    reader = csv.reader(file)\n",
    "    next(reader)  # Skip header\n",
    "    for row in reader:\n",
    "        age = int(row[0])  # The first column is 'age'\n",
    "        ages.append(age)\n",
    "\n",
    "print(\"Minimum age:\", min(ages))\n",
    "print(\"Maximum age:\", max(ages))"
   ]
  },
  {
   "cell_type": "code",
   "execution_count": null,
   "metadata": {},
   "outputs": [
    {
     "name": "stdout",
     "output_type": "stream",
     "text": [
      "Minimum BMI: 15.96\n",
      "Maximum BMI: 53.13\n"
     ]
    }
   ],
   "source": [
    "# This script reads a CSV file named 'insurance.csv' and prints the maximum and minimum values of the third column(bmi).\n",
    "bmis = []\n",
    "\n",
    "with open('insurance.csv') as file:\n",
    "    reader = csv.reader(file)\n",
    "    next(reader)  # Skip header\n",
    "    for row in reader:\n",
    "        bmi = float(row[2])  # 3rd column is index 2\n",
    "        bmis.append(bmi)\n",
    "\n",
    "print(\"Minimum BMI:\", min(bmis))\n",
    "print(\"Maximum BMI:\", max(bmis))\n"
   ]
  },
  {
   "cell_type": "code",
   "execution_count": null,
   "metadata": {},
   "outputs": [
    {
     "name": "stdout",
     "output_type": "stream",
     "text": [
      "Children - Min: 0 Max: 5\n",
      "Charges - Min: 1121.87 Max: 63770.43\n"
     ]
    }
   ],
   "source": [
    "# This script reads a CSV file named 'insurance.csv' and prints the maximum and minimum values of the fourth and seventh column(children & charges).\n",
    "children_list = []\n",
    "charges_list = []\n",
    "\n",
    "with open('insurance.csv') as file:\n",
    "    reader = csv.reader(file)\n",
    "    next(reader)  # Skip header\n",
    "    for row in reader:\n",
    "        children = int(row[3])           # 4th column (index 3)\n",
    "        charges = round(float(row[6]), 2)  # 7th column (index 6), rounded\n",
    "        children_list.append(children)\n",
    "        charges_list.append(charges)\n",
    "\n",
    "print(\"Children - Min:\", min(children_list), \"Max:\", max(children_list))\n",
    "print(\"Charges - Min:\", min(charges_list), \"Max:\", max(charges_list))\n",
    "\n"
   ]
  },
  {
   "cell_type": "code",
   "execution_count": 3,
   "metadata": {},
   "outputs": [],
   "source": [
    "# Initialize lists for each column\n",
    "import csv\n",
    "ages_list = []\n",
    "sex_list = []\n",
    "bmi_list = []\n",
    "children_list = []\n",
    "smoker_list = []\n",
    "region_list = []\n",
    "charges_list = []\n",
    "\n",
    "# Read the CSV file and populate the lists\n",
    "with open('insurance.csv') as file:\n",
    "    reader = csv.reader(file)\n",
    "    next(reader)  # Skip header\n",
    "    for row in reader:\n",
    "        ages_list.append(int(row[0]))          # Age column\n",
    "        sex_list.append(row[1])               # Sex column\n",
    "        bmi_list.append(float(row[2]))        # BMI column\n",
    "        children_list.append(int(row[3]))     # Children column\n",
    "        smoker_list.append(row[4])            # Smoker column\n",
    "        region_list.append(row[5])            # Region column\n",
    "        charges_list.append(round(float(row[6]), 2))  # Charges column"
   ]
  },
  {
   "cell_type": "code",
   "execution_count": 11,
   "metadata": {},
   "outputs": [
    {
     "name": "stdout",
     "output_type": "stream",
     "text": [
      "General Average Age: 39.0 years old\n",
      "Average Male Age: 39.0 years old\n",
      "Average Female Age: 40.0 years old\n"
     ]
    }
   ],
   "source": [
    "# General average age\n",
    "general_average_age = sum(ages_list) / len(ages_list)\n",
    "print(\"General Average Age:\", round(general_average_age, 0), \"years old\")\n",
    "\n",
    "# Average age for males\n",
    "male_ages = [age for i, age in enumerate(ages_list) if sex_list[i] == 'male']\n",
    "average_male_age = sum(male_ages) / len(male_ages)\n",
    "print(\"Average Male Age:\", round(average_male_age, 0), \"years old\")\n",
    "\n",
    "# Average age for females\n",
    "female_ages = [age for i, age in enumerate(ages_list) if sex_list[i] == 'female']\n",
    "average_female_age = sum(female_ages) / len(female_ages)\n",
    "print(\"Average Female Age:\", round(average_female_age, 0), \"years old\")"
   ]
  },
  {
   "cell_type": "code",
   "execution_count": 12,
   "metadata": {},
   "outputs": [
    {
     "name": "stdout",
     "output_type": "stream",
     "text": [
      "Average BMI of the Patients: 30.66\n"
     ]
    }
   ],
   "source": [
    "# Calculate the average BMI\n",
    "average_bmi = sum(bmi_list) / len(bmi_list)\n",
    "print(\"Average BMI of the Patients:\", round(average_bmi, 2))"
   ]
  },
  {
   "cell_type": "code",
   "execution_count": 16,
   "metadata": {},
   "outputs": [
    {
     "name": "stdout",
     "output_type": "stream",
     "text": [
      "Patient Distribution by Region: {'southwest': 325, 'southeast': 364, 'northwest': 325, 'northeast': 324}\n",
      "Average Number of Children per Patient: 1\n"
     ]
    }
   ],
   "source": [
    "# Patient distribution by region without using Counter\n",
    "region_distribution = {}\n",
    "for region in region_list:\n",
    "    if region in region_distribution:\n",
    "        region_distribution[region] += 1\n",
    "    else:\n",
    "        region_distribution[region] = 1\n",
    "\n",
    "print(\"Patient Distribution by Region:\", region_distribution)\n",
    "\n",
    "# Calculate the average number of children per patient\n",
    "average_children = sum(children_list) // len(children_list)\n",
    "print(\"Average Number of Children per Patient:\", average_children)"
   ]
  },
  {
   "cell_type": "code",
   "execution_count": 17,
   "metadata": {},
   "outputs": [
    {
     "name": "stdout",
     "output_type": "stream",
     "text": [
      "Average Charges by Number of Children: {0: 12365.98, 1: 12731.17, 3: 15355.32, 2: 15073.56, 5: 8786.04, 4: 13850.66}\n",
      "Average Charges by BMI Category: {'underweight': 8852.2, 'normal': 10409.34, 'overweight': 10987.51, 'obese': 15552.34}\n",
      "Average Charges by Smoking Status: {'yes': 32050.23, 'no': 8434.27}\n",
      "Average Charges by Region: {'southwest': 12346.94, 'southeast': 14735.41, 'northwest': 12417.58, 'northeast': 13406.38}\n",
      "Average Charge per Patient: 13270.42\n"
     ]
    }
   ],
   "source": [
    "# Impact of number of children on charges\n",
    "charges_by_children = {}\n",
    "for children, charge in zip(children_list, charges_list):\n",
    "    if children not in charges_by_children:\n",
    "        charges_by_children[children] = []\n",
    "    charges_by_children[children].append(charge)\n",
    "\n",
    "average_charges_by_children = {k: round(sum(v) / len(v), 2) for k, v in charges_by_children.items()}\n",
    "print(\"Average Charges by Number of Children:\", average_charges_by_children)\n",
    "\n",
    "# Impact of BMI on charges (categorizing BMI into underweight, normal, overweight, obese)\n",
    "bmi_categories = {'underweight': [], 'normal': [], 'overweight': [], 'obese': []}\n",
    "for bmi, charge in zip(bmi_list, charges_list):\n",
    "    if bmi < 18.5:\n",
    "        bmi_categories['underweight'].append(charge)\n",
    "    elif 18.5 <= bmi < 25:\n",
    "        bmi_categories['normal'].append(charge)\n",
    "    elif 25 <= bmi < 30:\n",
    "        bmi_categories['overweight'].append(charge)\n",
    "    else:\n",
    "        bmi_categories['obese'].append(charge)\n",
    "\n",
    "average_charges_by_bmi_category = {k: round(sum(v) / len(v), 2) for k, v in bmi_categories.items()}\n",
    "print(\"Average Charges by BMI Category:\", average_charges_by_bmi_category)\n",
    "\n",
    "# Impact of smoking status on charges\n",
    "charges_by_smoker = {'yes': [], 'no': []}\n",
    "for smoker, charge in zip(smoker_list, charges_list):\n",
    "    charges_by_smoker[smoker].append(charge)\n",
    "\n",
    "average_charges_by_smoker = {k: round(sum(v) / len(v), 2) for k, v in charges_by_smoker.items()}\n",
    "print(\"Average Charges by Smoking Status:\", average_charges_by_smoker)\n",
    "\n",
    "# Impact of region on charges\n",
    "charges_by_region = {}\n",
    "for region, charge in zip(region_list, charges_list):\n",
    "    if region not in charges_by_region:\n",
    "        charges_by_region[region] = []\n",
    "    charges_by_region[region].append(charge)\n",
    "\n",
    "average_charges_by_region = {k: round(sum(v) / len(v), 2) for k, v in charges_by_region.items()}\n",
    "print(\"Average Charges by Region:\", average_charges_by_region)\n",
    "\n",
    "# Calculate the average charge per patient\n",
    "average_charge = sum(charges_list) / len(charges_list)\n",
    "print(\"Average Charge per Patient:\", round(average_charge, 2))"
   ]
  },
  {
   "cell_type": "markdown",
   "metadata": {},
   "source": [
    "Medical Insurance Cost Analysis Report\n",
    "\n",
    "Objective\n",
    "This report analyzes key demographic and lifestyle factors that influence medical insurance charges using the dataset us-medical-insurance-cost.csv. The goal is to identify trends and patterns in the data that can inform healthcare and insurance policy decisions.\n",
    "\n",
    "1. Demographic and Health Profile of the Patients\n",
    "Average Age\n",
    "Overall average age: 39 years\n",
    "\n",
    "By gender:\n",
    "\n",
    "Males: 39 years\n",
    "\n",
    "Females: 40 years\n",
    "\n",
    "The dataset includes a balanced adult population with a slight age difference by gender. Since the average age is close to 40, age-related health issues may begin to impact medical costs.\n",
    "\n",
    "Average BMI\n",
    "Overall average BMI: 30.66\n",
    "\n",
    "This value is in the \"obese\" category according to WHO standards (BMI ≥ 30), suggesting a significant proportion of the population may be at risk of obesity-related health conditions, which are known to increase medical costs.\n",
    "\n",
    "Average Number of Children\n",
    "Average children per patient: 1\n",
    "\n",
    "Patients tend to have small family sizes, which may slightly influence insurance premiums due to dependents but is not the dominant cost driver.\n",
    "\n",
    "2. Regional and Cost Distribution\n",
    "Patient Distribution by Region\n",
    "\n",
    "Southwest: 325\n",
    "\n",
    "Southeast: 364\n",
    "\n",
    "Northwest: 325\n",
    "\n",
    "Northeast: 324\n",
    "\n",
    "The dataset is regionally well-balanced, allowing for fair comparisons of insurance costs by region.\n",
    "\n",
    "Average Charge per Patient\n",
    "Overall average charge: $13,270.42\n",
    "\n",
    "This is the baseline cost, influenced by age, lifestyle, and health indicators.\n",
    "\n",
    "3. Factors Influencing Insurance Charges\n",
    "\n",
    "Impact of Number of Children\n",
    "\n",
    "Children\tAverage Charge ($)\n",
    "0\t        12,365.98$\n",
    "1\t        12,731.17$\n",
    "2\t        15,073.56$\n",
    "3\t        15,355.32$\n",
    "4\t        13,850.66$\n",
    "5\t        8,786.04$\n",
    "\n",
    "Insurance charges generally increase with the number of children, up to 3. However, the drop at 5 children may suggest outlier effects or specific policies targeting large families with subsidies.\n",
    "\n",
    "Impact of BMI Category\n",
    "\n",
    "BMI Category\tAverage Charge ($)\n",
    "Underweight\t    8,852.20$\n",
    "Normal\t        10,409.34$\n",
    "Overweight\t    10,987.51$\n",
    "Obese\t        15,552.34$\n",
    "\n",
    "There is a clear trend of increasing insurance costs with higher BMI. Obese individuals incur significantly higher medical expenses, highlighting the cost implications of obesity-related health risks.\n",
    "\n",
    "Impact of Smoking Status\n",
    "Smoking Status\tAverage Charge ($)\n",
    "\n",
    "Yes\t            32,050.23$\n",
    "No\t            8,434.27$\n",
    "\n",
    "Smokers are charged nearly four times more on average than non-smokers, emphasizing the strong correlation between smoking and higher healthcare costs.\n",
    "\n",
    "Impact of Region\n",
    "Region\t        Average Charge ($)\n",
    "\n",
    "Southwest\t    12,346.94$\n",
    "Southeast\t    14,735.41$\n",
    "Northwest\t    12,417.58$\n",
    "Northeast\t    13,406.38$\n",
    "\n",
    "The Southeast has the highest average charges, possibly due to regional health disparities, lifestyle differences, or access to healthcare services. The Southwest and Northwest show lower average charges.\n",
    "\n",
    "4. Key Insights and Recommendations\n",
    "\n",
    "Findings\n",
    "Lifestyle Choices Matter: Smoking and obesity are the most influential factors in raising insurance charges.\n",
    "Family Size Has a Moderate Effect: More children generally mean higher costs, but the effect plateaus or drops after three children.\n",
    "Regional Differences Are Noticeable: The Southeast shows higher insurance costs, which may require targeted regional interventions.\n",
    "Demographics Are Stable: Age and gender distributions are fairly consistent and do not drastically skew the data.\n",
    "\n",
    "Recommendations\n",
    "Promote Preventive Health Programs: Encourage smoking cessation and weight management programs to reduce long-term insurance costs.\n",
    "Tailor Insurance Plans by Risk Factors: Consider personalized premiums based on lifestyle-related risk assessments.\n",
    "Investigate Regional Healthcare Access: Conduct deeper regional analyses to understand why Southeast costs are higher and address disparities.\n",
    "Policy Incentives for Healthy Living: Implement premium discounts or benefits for maintaining healthy BMI and non-smoking status.\n",
    "\n",
    "Future Predictions\n",
    "If current trends continue, insurance costs will likely keep rising, particularly among smokers and individuals with high BMI.\n",
    "Insurers and policymakers should prepare for increasing claims by investing in public health campaigns and offering incentives for healthier lifestyles."
   ]
  },
  {
   "cell_type": "markdown",
   "metadata": {},
   "source": []
  }
 ],
 "metadata": {
  "kernelspec": {
   "display_name": ".venv",
   "language": "python",
   "name": "python3"
  },
  "language_info": {
   "codemirror_mode": {
    "name": "ipython",
    "version": 3
   },
   "file_extension": ".py",
   "mimetype": "text/x-python",
   "name": "python",
   "nbconvert_exporter": "python",
   "pygments_lexer": "ipython3",
   "version": "3.9.6"
  }
 },
 "nbformat": 4,
 "nbformat_minor": 4
}
